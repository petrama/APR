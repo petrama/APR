{
 "cells": [
  {
   "cell_type": "code",
   "execution_count": 2,
   "metadata": {
    "collapsed": false
   },
   "outputs": [
    {
     "name": "stdout",
     "output_type": "stream",
     "text": [
      "Populating the interactive namespace from numpy and matplotlib\n"
     ]
    }
   ],
   "source": [
    "import scipy as sp\n",
    "import sklearn\n",
    "%pylab inline"
   ]
  },
  {
   "cell_type": "code",
   "execution_count": 96,
   "metadata": {
    "collapsed": false
   },
   "outputs": [
    {
     "name": "stdout",
     "output_type": "stream",
     "text": [
      "[[  1.00000000e+00  -2.00000000e+00]\n",
      " [  3.33333333e-01  -6.66666667e-01]\n",
      " [  1.11111111e-01  -2.22222222e-01]\n",
      " [  3.70370370e-02  -7.40740741e-02]\n",
      " [  1.23456790e-02  -2.46913580e-02]\n",
      " [  4.11522634e-03  -8.23045267e-03]\n",
      " [  1.37174211e-03  -2.74348422e-03]\n",
      " [  4.57247371e-04  -9.14494742e-04]\n",
      " [  1.52415790e-04  -3.04831581e-04]\n",
      " [  5.08052634e-05  -1.01610527e-04]]\n",
      "[[   0.    1.]\n",
      " [-200. -102.]]\n",
      "[ 0.5  5. ]\n",
      "(10,)\n",
      "(10, 2)\n"
     ]
    },
    {
     "data": {
      "image/png": "[encoded data removed]",
      "text/plain": [
       "<matplotlib.figure.Figure at 0x7dd1ba8>"
      ]
     },
     "metadata": {},
     "output_type": "display_data"
    },
    {
     "data": {
      "text/plain": [
       "array([[ 1.,  0.],\n",
       "       [ 0.,  1.]])"
      ]
     },
     "execution_count": 96,
     "metadata": {},
     "output_type": "execute_result"
    }
   ],
   "source": [
    "trapez = sp.loadtxt(\"trapez.data\", delimiter=',')\n",
    "print(trapez)\n",
    "rk4=sp.loadtxt(\"rk4.data\",delimiter=',')\n",
    "print(rk4)\n",
    "nesto=sp.loadtxt(\"parametri.txt\")\n",
    "A=sp.loadtxt(\"A1.txt\")\n",
    "B=sp.loadtxt(\"B1.txt\")\n",
    "x0=sp.loadtxt(\"x01.txt\")\n",
    "print(A)\n",
    "print(nesto)\n",
    "period=nesto[0]\n",
    "tmax=nesto[1]\n",
    "n=tmax/period\n",
    "ts=sp.linspace(0,tmax,n)\n",
    "print(ts.shape)\n",
    "print(trapez.shape)\n",
    "plot(ts,trapez[:,0],label='trapez x1')\n",
    "plot(ts,trapez[:,1],label='trapez x2')\n",
    "\n",
    "plot(ts,rk4[:,0],label='rk4 x1')\n",
    "plot(ts,rk4[:,1],label='rk4 x2')\n",
    "plt.legend()\n",
    "plt.show()\n",
    "np.eye(A.shape[0])"
   ]
  },
  {
   "cell_type": "code",
   "execution_count": 100,
   "metadata": {
    "collapsed": false
   },
   "outputs": [],
   "source": [
    "class Trapez:\n",
    "    def __init__(self,A,B,period):\n",
    "        eye=np.eye(A.shape[0])\n",
    "        at2=A*(period/2)\n",
    "        prva=inv(eye-at2)\n",
    "        druga=eye+at2\n",
    "        self.R=sp.dot(prva,druga)\n",
    "        self.S=sp.dot(prva,B*(period/2))\n",
    "    def getNext(self,xk):\n",
    "        return sp.dot(self.R,xk)+self.S\n",
    "    \n",
    "class RK4:\n",
    "    def __init__(self,A,B,period):\n",
    "        self.A=A\n",
    "        self.B=B\n",
    "        self.period=period\n",
    "    def getNext(self,xk):\n",
    "        m1=sp.dot(self.A,xk)+self.B\n",
    "        m2=sp.dot(self.A,m1*period*0.5)+self.B\n",
    "        m3=sp.dot(self.A,m2*period*0.5)+self.B\n",
    "        m4=sp.dot(self.A,m3*period)+self.B\n",
    "        return xk+(m1+2*m2+2*m3+m4)*(period/6)\n",
    "    \n",
    "def postupak(period,x0,tmax,getNextFja):\n",
    "    n=int(floor(tmax/period))-1\n",
    "    res=[x0]\n",
    "    xk=x0\n",
    "    for i in range(0,n):\n",
    "        xk1=getNextFja(xk)\n",
    "        xk=xk1\n",
    "        res.append(xk1)\n",
    "    return np.array(res)    "
   ]
  },
  {
   "cell_type": "code",
   "execution_count": 101,
   "metadata": {
    "collapsed": false
   },
   "outputs": [
    {
     "name": "stdout",
     "output_type": "stream",
     "text": [
      "period 0.5\n",
      "[[  1.00000000e+00  -2.00000000e+00]\n",
      " [  3.33333333e-01  -6.66666667e-01]\n",
      " [  1.11111111e-01  -2.22222222e-01]\n",
      " [  3.70370370e-02  -7.40740741e-02]\n",
      " [  1.23456790e-02  -2.46913580e-02]\n",
      " [  4.11522634e-03  -8.23045267e-03]\n",
      " [  1.37174211e-03  -2.74348422e-03]\n",
      " [  4.57247371e-04  -9.14494742e-04]\n",
      " [  1.52415790e-04  -3.04831581e-04]\n",
      " [  5.08052634e-05  -1.01610527e-04]]\n",
      "[[  1.00000000e+00  -2.00000000e+00]\n",
      " [  9.58333333e-01  -1.91666667e+00]\n",
      " [  9.18402778e-01  -1.83680556e+00]\n",
      " [  8.80135872e-01  -1.76025962e+00]\n",
      " [  8.12497793e-01   1.40965960e+00]\n",
      " [ -7.75333436e+03   7.75412651e+05]\n",
      " [ -1.94170970e+09   1.94170970e+11]\n",
      " [ -4.86222231e+14   4.86222231e+16]\n",
      " [ -1.21754585e+20   1.21754585e+22]\n",
      " [ -3.04884844e+25   3.04884844e+27]]\n",
      "(10,)\n",
      "(10, 2)\n"
     ]
    },
    {
     "data": {
      "text/plain": [
       "[<matplotlib.lines.Line2D at 0x92dae48>]"
      ]
     },
     "execution_count": 101,
     "metadata": {},
     "output_type": "execute_result"
    },
    {
     "data": {
      "image/png": "[encoded data removed]",
      "text/plain": [
       "<matplotlib.figure.Figure at 0x7ef9e48>"
      ]
     },
     "metadata": {},
     "output_type": "display_data"
    }
   ],
   "source": [
    "tr=Trapez(A,B,period)\n",
    "rk=RK4(A,B,period)\n",
    "tr.R\n",
    "tr.S\n",
    "nes=postupak(period,x0,tmax,tr.getNext)\n",
    "drugo=postupak(period,x0,tmax,rk.getNext)\n",
    "print(\"period\",period)\n",
    "print(nes)\n",
    "print(drugo)\n",
    "print(ts.shape)\n",
    "print(nes.shape)\n",
    "plt.plot(ts,nes[:,0])\n",
    "plt.plot(ts,nes[:,1])\n",
    "plt.plot(ts,drugo[:,0])\n",
    "plt.plot(ts,drugo[:,1])"
   ]
  },
  {
   "cell_type": "code",
   "execution_count": null,
   "metadata": {
    "collapsed": true
   },
   "outputs": [],
   "source": []
  }
 ],
 "metadata": {
  "kernelspec": {
   "display_name": "Python 3",
   "language": "python",
   "name": "python3"
  },
  "language_info": {
   "codemirror_mode": {
    "name": "ipython",
    "version": 3
   },
   "file_extension": ".py",
   "mimetype": "text/x-python",
   "name": "python",
   "nbconvert_exporter": "python",
   "pygments_lexer": "ipython3",
   "version": "3.4.3"
  }
 },
 "nbformat": 4,
 "nbformat_minor": 0
}
